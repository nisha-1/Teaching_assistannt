{
 "cells": [
  {
   "cell_type": "code",
   "execution_count": 88,
   "id": "15c92ef5",
   "metadata": {},
   "outputs": [
    {
     "name": "stdout",
     "output_type": "stream",
     "text": [
      "Collecting matplotlib\n",
      "  Downloading matplotlib-3.7.1-cp39-cp39-win_amd64.whl (7.6 MB)\n",
      "     ---------------------------------------- 0.0/7.6 MB ? eta -:--:--\n",
      "      --------------------------------------- 0.1/7.6 MB 2.2 MB/s eta 0:00:04\n",
      "     - -------------------------------------- 0.2/7.6 MB 2.3 MB/s eta 0:00:04\n",
      "     - -------------------------------------- 0.3/7.6 MB 2.3 MB/s eta 0:00:04\n",
      "     -- ------------------------------------- 0.5/7.6 MB 2.6 MB/s eta 0:00:03\n",
      "     --- ------------------------------------ 0.7/7.6 MB 3.1 MB/s eta 0:00:03\n",
      "     ------ --------------------------------- 1.2/7.6 MB 4.2 MB/s eta 0:00:02\n",
      "     ------- -------------------------------- 1.4/7.6 MB 4.1 MB/s eta 0:00:02\n",
      "     -------- ------------------------------- 1.5/7.6 MB 4.1 MB/s eta 0:00:02\n",
      "     -------- ------------------------------- 1.5/7.6 MB 4.1 MB/s eta 0:00:02\n",
      "     -------- ------------------------------- 1.5/7.6 MB 4.1 MB/s eta 0:00:02\n",
      "     -------- ------------------------------- 1.6/7.6 MB 3.1 MB/s eta 0:00:02\n",
      "     --------- ------------------------------ 1.8/7.6 MB 3.2 MB/s eta 0:00:02\n",
      "     ---------- ----------------------------- 2.0/7.6 MB 3.2 MB/s eta 0:00:02\n",
      "     ----------- ---------------------------- 2.2/7.6 MB 3.2 MB/s eta 0:00:02\n",
      "     ------------ --------------------------- 2.3/7.6 MB 3.2 MB/s eta 0:00:02\n",
      "     ------------ --------------------------- 2.5/7.6 MB 3.1 MB/s eta 0:00:02\n",
      "     ------------- -------------------------- 2.6/7.6 MB 3.1 MB/s eta 0:00:02\n",
      "     -------------- ------------------------- 2.8/7.6 MB 3.1 MB/s eta 0:00:02\n",
      "     --------------- ------------------------ 2.9/7.6 MB 3.1 MB/s eta 0:00:02\n",
      "     ----------------- ---------------------- 3.3/7.6 MB 3.4 MB/s eta 0:00:02\n",
      "     ------------------- -------------------- 3.7/7.6 MB 3.6 MB/s eta 0:00:02\n",
      "     ------------------- -------------------- 3.8/7.6 MB 3.6 MB/s eta 0:00:02\n",
      "     ------------------- -------------------- 3.8/7.6 MB 3.6 MB/s eta 0:00:02\n",
      "     ------------------- -------------------- 3.8/7.6 MB 3.6 MB/s eta 0:00:02\n",
      "     --------------------- ------------------ 4.0/7.6 MB 3.3 MB/s eta 0:00:02\n",
      "     ---------------------- ----------------- 4.3/7.6 MB 3.3 MB/s eta 0:00:02\n",
      "     ----------------------- ---------------- 4.4/7.6 MB 3.4 MB/s eta 0:00:01\n",
      "     ------------------------ --------------- 4.6/7.6 MB 3.4 MB/s eta 0:00:01\n",
      "     ------------------------- -------------- 4.9/7.6 MB 3.4 MB/s eta 0:00:01\n",
      "     -------------------------- ------------- 5.1/7.6 MB 3.5 MB/s eta 0:00:01\n",
      "     --------------------------- ------------ 5.3/7.6 MB 3.5 MB/s eta 0:00:01\n",
      "     ---------------------------- ----------- 5.4/7.6 MB 3.5 MB/s eta 0:00:01\n",
      "     ---------------------------- ----------- 5.4/7.6 MB 3.5 MB/s eta 0:00:01\n",
      "     ---------------------------- ----------- 5.4/7.6 MB 3.5 MB/s eta 0:00:01\n",
      "     ----------------------------- ---------- 5.7/7.6 MB 3.3 MB/s eta 0:00:01\n",
      "     -------------------------------- ------- 6.1/7.6 MB 3.5 MB/s eta 0:00:01\n",
      "     --------------------------------- ------ 6.3/7.6 MB 3.5 MB/s eta 0:00:01\n",
      "     ---------------------------------- ----- 6.5/7.6 MB 3.5 MB/s eta 0:00:01\n",
      "     ----------------------------------- ---- 6.7/7.6 MB 3.5 MB/s eta 0:00:01\n",
      "     ------------------------------------ --- 6.9/7.6 MB 3.5 MB/s eta 0:00:01\n",
      "     ------------------------------------- -- 7.1/7.6 MB 3.5 MB/s eta 0:00:01\n",
      "     -------------------------------------- - 7.3/7.6 MB 3.5 MB/s eta 0:00:01\n",
      "     ---------------------------------------  7.5/7.6 MB 3.5 MB/s eta 0:00:01\n",
      "     ---------------------------------------  7.6/7.6 MB 3.5 MB/s eta 0:00:01\n",
      "     ---------------------------------------- 7.6/7.6 MB 3.5 MB/s eta 0:00:00\n",
      "Collecting fonttools>=4.22.0\n",
      "  Downloading fonttools-4.39.3-py3-none-any.whl (1.0 MB)\n",
      "     ---------------------------------------- 0.0/1.0 MB ? eta -:--:--\n",
      "     -------- ------------------------------- 0.2/1.0 MB 6.1 MB/s eta 0:00:01\n",
      "     ------------------------- -------------- 0.7/1.0 MB 6.9 MB/s eta 0:00:01\n",
      "     ---------------------------------------  1.0/1.0 MB 6.3 MB/s eta 0:00:01\n",
      "     ---------------------------------------- 1.0/1.0 MB 5.8 MB/s eta 0:00:00\n",
      "Collecting contourpy>=1.0.1\n",
      "  Downloading contourpy-1.0.7-cp39-cp39-win_amd64.whl (160 kB)\n",
      "     ---------------------------------------- 0.0/160.2 kB ? eta -:--:--\n",
      "     -------------------------------------- 160.2/160.2 kB 4.8 MB/s eta 0:00:00\n",
      "Requirement already satisfied: numpy>=1.20 in c:\\users\\nisha.shinde\\desktop\\enhance\\testproject\\pythondeveloper_hands_on_assessment\\project\\env\\lib\\site-packages (from matplotlib) (1.24.2)\n",
      "Collecting cycler>=0.10\n",
      "  Using cached cycler-0.11.0-py3-none-any.whl (6.4 kB)\n",
      "Requirement already satisfied: packaging>=20.0 in c:\\users\\nisha.shinde\\desktop\\enhance\\testproject\\pythondeveloper_hands_on_assessment\\project\\env\\lib\\site-packages (from matplotlib) (23.0)\n",
      "Collecting pyparsing>=2.3.1\n",
      "  Downloading pyparsing-3.0.9-py3-none-any.whl (98 kB)\n",
      "     ---------------------------------------- 0.0/98.3 kB ? eta -:--:--\n",
      "     ---------------------------------------- 98.3/98.3 kB 5.5 MB/s eta 0:00:00\n",
      "Collecting kiwisolver>=1.0.1\n",
      "  Downloading kiwisolver-1.4.4-cp39-cp39-win_amd64.whl (55 kB)\n",
      "     ---------------------------------------- 0.0/55.4 kB ? eta -:--:--\n",
      "     ---------------------------------------- 55.4/55.4 kB 2.8 MB/s eta 0:00:00\n",
      "Collecting importlib-resources>=3.2.0\n",
      "  Downloading importlib_resources-5.12.0-py3-none-any.whl (36 kB)\n",
      "Collecting pillow>=6.2.0\n",
      "  Downloading Pillow-9.5.0-cp39-cp39-win_amd64.whl (2.5 MB)\n",
      "     ---------------------------------------- 0.0/2.5 MB ? eta -:--:--\n",
      "     ------ --------------------------------- 0.4/2.5 MB 25.6 MB/s eta 0:00:01\n",
      "     ------------- -------------------------- 0.8/2.5 MB 8.7 MB/s eta 0:00:01\n",
      "     ---------------- ----------------------- 1.0/2.5 MB 6.6 MB/s eta 0:00:01\n",
      "     ------------------- -------------------- 1.2/2.5 MB 6.1 MB/s eta 0:00:01\n",
      "     ---------------------- ----------------- 1.4/2.5 MB 5.7 MB/s eta 0:00:01\n",
      "     ------------------------ --------------- 1.6/2.5 MB 5.5 MB/s eta 0:00:01\n",
      "     ---------------------------- ----------- 1.8/2.5 MB 5.2 MB/s eta 0:00:01\n",
      "     ------------------------------ --------- 1.9/2.5 MB 5.1 MB/s eta 0:00:01\n",
      "     --------------------------------- ------ 2.1/2.5 MB 5.0 MB/s eta 0:00:01\n",
      "     ------------------------------------ --- 2.3/2.5 MB 4.8 MB/s eta 0:00:01\n",
      "     ------------------------------------- -- 2.4/2.5 MB 4.8 MB/s eta 0:00:01\n",
      "     ---------------------------------------- 2.5/2.5 MB 4.5 MB/s eta 0:00:00\n",
      "Requirement already satisfied: python-dateutil>=2.7 in c:\\users\\nisha.shinde\\desktop\\enhance\\testproject\\pythondeveloper_hands_on_assessment\\project\\env\\lib\\site-packages (from matplotlib) (2.8.2)\n",
      "Requirement already satisfied: zipp>=3.1.0 in c:\\users\\nisha.shinde\\desktop\\enhance\\testproject\\pythondeveloper_hands_on_assessment\\project\\env\\lib\\site-packages (from importlib-resources>=3.2.0->matplotlib) (3.15.0)\n",
      "Requirement already satisfied: six>=1.5 in c:\\users\\nisha.shinde\\desktop\\enhance\\testproject\\pythondeveloper_hands_on_assessment\\project\\env\\lib\\site-packages (from python-dateutil>=2.7->matplotlib) (1.16.0)\n",
      "Installing collected packages: pyparsing, pillow, kiwisolver, importlib-resources, fonttools, cycler, contourpy, matplotlib\n",
      "Successfully installed contourpy-1.0.7 cycler-0.11.0 fonttools-4.39.3 importlib-resources-5.12.0 kiwisolver-1.4.4 matplotlib-3.7.1 pillow-9.5.0 pyparsing-3.0.9\n",
      "Note: you may need to restart the kernel to use updated packages.\n"
     ]
    }
   ],
   "source": [
    "%pip install --upgrade scikit-learn\n",
    "%pip install matplotlib"
   ]
  },
  {
   "cell_type": "code",
   "execution_count": 92,
   "id": "7f47e3f5",
   "metadata": {},
   "outputs": [],
   "source": [
    "import pandas as pd\n",
    "from sklearn.preprocessing import LabelEncoder,StandardScaler,OneHotEncoder\n",
    "from sklearn.model_selection import train_test_split\n",
    "import matplotlib.pyplot as plt"
   ]
  },
  {
   "cell_type": "markdown",
   "id": "3686af84",
   "metadata": {},
   "source": [
    "##Read the data"
   ]
  },
  {
   "cell_type": "code",
   "execution_count": 93,
   "id": "7c25d673",
   "metadata": {},
   "outputs": [
    {
     "data": {
      "text/html": [
       "<div>\n",
       "<style scoped>\n",
       "    .dataframe tbody tr th:only-of-type {\n",
       "        vertical-align: middle;\n",
       "    }\n",
       "\n",
       "    .dataframe tbody tr th {\n",
       "        vertical-align: top;\n",
       "    }\n",
       "\n",
       "    .dataframe thead th {\n",
       "        text-align: right;\n",
       "    }\n",
       "</style>\n",
       "<table border=\"1\" class=\"dataframe\">\n",
       "  <thead>\n",
       "    <tr style=\"text-align: right;\">\n",
       "      <th></th>\n",
       "      <th>TA_Speaker_1_2</th>\n",
       "      <th>Course_instructor_25</th>\n",
       "      <th>Course_categ_26</th>\n",
       "      <th>Sem_1sum_2reg</th>\n",
       "      <th>class_size</th>\n",
       "      <th>categ_1l_2m_3h</th>\n",
       "    </tr>\n",
       "  </thead>\n",
       "  <tbody>\n",
       "    <tr>\n",
       "      <th>0</th>\n",
       "      <td>1</td>\n",
       "      <td>23</td>\n",
       "      <td>3</td>\n",
       "      <td>1</td>\n",
       "      <td>19</td>\n",
       "      <td>3</td>\n",
       "    </tr>\n",
       "    <tr>\n",
       "      <th>1</th>\n",
       "      <td>2</td>\n",
       "      <td>15</td>\n",
       "      <td>3</td>\n",
       "      <td>1</td>\n",
       "      <td>17</td>\n",
       "      <td>3</td>\n",
       "    </tr>\n",
       "    <tr>\n",
       "      <th>2</th>\n",
       "      <td>1</td>\n",
       "      <td>23</td>\n",
       "      <td>3</td>\n",
       "      <td>2</td>\n",
       "      <td>49</td>\n",
       "      <td>3</td>\n",
       "    </tr>\n",
       "    <tr>\n",
       "      <th>3</th>\n",
       "      <td>1</td>\n",
       "      <td>5</td>\n",
       "      <td>2</td>\n",
       "      <td>2</td>\n",
       "      <td>33</td>\n",
       "      <td>3</td>\n",
       "    </tr>\n",
       "    <tr>\n",
       "      <th>4</th>\n",
       "      <td>2</td>\n",
       "      <td>7</td>\n",
       "      <td>11</td>\n",
       "      <td>2</td>\n",
       "      <td>55</td>\n",
       "      <td>3</td>\n",
       "    </tr>\n",
       "  </tbody>\n",
       "</table>\n",
       "</div>"
      ],
      "text/plain": [
       "   TA_Speaker_1_2  Course_instructor_25  Course_categ_26  Sem_1sum_2reg  \\\n",
       "0               1                    23                3              1   \n",
       "1               2                    15                3              1   \n",
       "2               1                    23                3              2   \n",
       "3               1                     5                2              2   \n",
       "4               2                     7               11              2   \n",
       "\n",
       "   class_size  categ_1l_2m_3h  \n",
       "0          19               3  \n",
       "1          17               3  \n",
       "2          49               3  \n",
       "3          33               3  \n",
       "4          55               3  "
      ]
     },
     "execution_count": 93,
     "metadata": {},
     "output_type": "execute_result"
    }
   ],
   "source": [
    "# data = pd.read_csv(\"data.csv\",usecols=[\"TA_Speaker_1_2\",\"Course_instructor_25\",\"Course_categ_26\",\"Sem_1sum_2reg\",\"class_size\",\"categ_1l_2m_3h\"])\n",
    "data = pd.read_csv('data.csv',header=None)\n",
    "data.columns = [\"TA_Speaker_1_2\",\"Course_instructor_25\",\"Course_categ_26\",\"Sem_1sum_2reg\",\"class_size\",\"categ_1l_2m_3h\"]\n",
    "data.head(5)"
   ]
  },
  {
   "cell_type": "code",
   "execution_count": 94,
   "id": "b5140cfb",
   "metadata": {},
   "outputs": [
    {
     "data": {
      "text/html": [
       "<div>\n",
       "<style scoped>\n",
       "    .dataframe tbody tr th:only-of-type {\n",
       "        vertical-align: middle;\n",
       "    }\n",
       "\n",
       "    .dataframe tbody tr th {\n",
       "        vertical-align: top;\n",
       "    }\n",
       "\n",
       "    .dataframe thead th {\n",
       "        text-align: right;\n",
       "    }\n",
       "</style>\n",
       "<table border=\"1\" class=\"dataframe\">\n",
       "  <thead>\n",
       "    <tr style=\"text-align: right;\">\n",
       "      <th></th>\n",
       "      <th>TA_Speaker_1_2</th>\n",
       "      <th>Course_instructor_25</th>\n",
       "      <th>Course_categ_26</th>\n",
       "      <th>Sem_1sum_2reg</th>\n",
       "      <th>class_size</th>\n",
       "      <th>categ_1l_2m_3h</th>\n",
       "    </tr>\n",
       "  </thead>\n",
       "  <tbody>\n",
       "    <tr>\n",
       "      <th>count</th>\n",
       "      <td>151.000000</td>\n",
       "      <td>151.000000</td>\n",
       "      <td>151.000000</td>\n",
       "      <td>151.000000</td>\n",
       "      <td>151.000000</td>\n",
       "      <td>151.000000</td>\n",
       "    </tr>\n",
       "    <tr>\n",
       "      <th>mean</th>\n",
       "      <td>1.807947</td>\n",
       "      <td>13.642384</td>\n",
       "      <td>8.105960</td>\n",
       "      <td>1.847682</td>\n",
       "      <td>27.867550</td>\n",
       "      <td>2.019868</td>\n",
       "    </tr>\n",
       "    <tr>\n",
       "      <th>std</th>\n",
       "      <td>0.395225</td>\n",
       "      <td>6.825779</td>\n",
       "      <td>7.023914</td>\n",
       "      <td>0.360525</td>\n",
       "      <td>12.893758</td>\n",
       "      <td>0.820327</td>\n",
       "    </tr>\n",
       "    <tr>\n",
       "      <th>min</th>\n",
       "      <td>1.000000</td>\n",
       "      <td>1.000000</td>\n",
       "      <td>1.000000</td>\n",
       "      <td>1.000000</td>\n",
       "      <td>3.000000</td>\n",
       "      <td>1.000000</td>\n",
       "    </tr>\n",
       "    <tr>\n",
       "      <th>25%</th>\n",
       "      <td>2.000000</td>\n",
       "      <td>8.000000</td>\n",
       "      <td>3.000000</td>\n",
       "      <td>2.000000</td>\n",
       "      <td>19.000000</td>\n",
       "      <td>1.000000</td>\n",
       "    </tr>\n",
       "    <tr>\n",
       "      <th>50%</th>\n",
       "      <td>2.000000</td>\n",
       "      <td>13.000000</td>\n",
       "      <td>4.000000</td>\n",
       "      <td>2.000000</td>\n",
       "      <td>27.000000</td>\n",
       "      <td>2.000000</td>\n",
       "    </tr>\n",
       "    <tr>\n",
       "      <th>75%</th>\n",
       "      <td>2.000000</td>\n",
       "      <td>20.000000</td>\n",
       "      <td>15.000000</td>\n",
       "      <td>2.000000</td>\n",
       "      <td>37.000000</td>\n",
       "      <td>3.000000</td>\n",
       "    </tr>\n",
       "    <tr>\n",
       "      <th>max</th>\n",
       "      <td>2.000000</td>\n",
       "      <td>25.000000</td>\n",
       "      <td>26.000000</td>\n",
       "      <td>2.000000</td>\n",
       "      <td>66.000000</td>\n",
       "      <td>3.000000</td>\n",
       "    </tr>\n",
       "  </tbody>\n",
       "</table>\n",
       "</div>"
      ],
      "text/plain": [
       "       TA_Speaker_1_2  Course_instructor_25  Course_categ_26  Sem_1sum_2reg  \\\n",
       "count      151.000000            151.000000       151.000000     151.000000   \n",
       "mean         1.807947             13.642384         8.105960       1.847682   \n",
       "std          0.395225              6.825779         7.023914       0.360525   \n",
       "min          1.000000              1.000000         1.000000       1.000000   \n",
       "25%          2.000000              8.000000         3.000000       2.000000   \n",
       "50%          2.000000             13.000000         4.000000       2.000000   \n",
       "75%          2.000000             20.000000        15.000000       2.000000   \n",
       "max          2.000000             25.000000        26.000000       2.000000   \n",
       "\n",
       "       class_size  categ_1l_2m_3h  \n",
       "count  151.000000      151.000000  \n",
       "mean    27.867550        2.019868  \n",
       "std     12.893758        0.820327  \n",
       "min      3.000000        1.000000  \n",
       "25%     19.000000        1.000000  \n",
       "50%     27.000000        2.000000  \n",
       "75%     37.000000        3.000000  \n",
       "max     66.000000        3.000000  "
      ]
     },
     "execution_count": 94,
     "metadata": {},
     "output_type": "execute_result"
    }
   ],
   "source": [
    "data.describe()"
   ]
  },
  {
   "cell_type": "code",
   "execution_count": 95,
   "id": "af7ad0ef",
   "metadata": {},
   "outputs": [
    {
     "name": "stdout",
     "output_type": "stream",
     "text": [
      "<class 'pandas.core.frame.DataFrame'>\n",
      "RangeIndex: 151 entries, 0 to 150\n",
      "Data columns (total 6 columns):\n",
      " #   Column                Non-Null Count  Dtype\n",
      "---  ------                --------------  -----\n",
      " 0   TA_Speaker_1_2        151 non-null    int64\n",
      " 1   Course_instructor_25  151 non-null    int64\n",
      " 2   Course_categ_26       151 non-null    int64\n",
      " 3   Sem_1sum_2reg         151 non-null    int64\n",
      " 4   class_size            151 non-null    int64\n",
      " 5   categ_1l_2m_3h        151 non-null    int64\n",
      "dtypes: int64(6)\n",
      "memory usage: 7.2 KB\n"
     ]
    }
   ],
   "source": [
    "data.info()"
   ]
  },
  {
   "cell_type": "code",
   "execution_count": 96,
   "id": "13ada8dc",
   "metadata": {},
   "outputs": [
    {
     "data": {
      "text/plain": [
       "TA_Speaker_1_2          0\n",
       "Course_instructor_25    0\n",
       "Course_categ_26         0\n",
       "Sem_1sum_2reg           0\n",
       "class_size              0\n",
       "categ_1l_2m_3h          0\n",
       "dtype: int64"
      ]
     },
     "execution_count": 96,
     "metadata": {},
     "output_type": "execute_result"
    }
   ],
   "source": [
    "##Find missing values\n",
    "mis_values = data.isna().sum()\n",
    "mis_values"
   ]
  },
  {
   "cell_type": "code",
   "execution_count": 97,
   "id": "63de9b44",
   "metadata": {},
   "outputs": [
    {
     "data": {
      "text/plain": [
       "0"
      ]
     },
     "execution_count": 97,
     "metadata": {},
     "output_type": "execute_result"
    }
   ],
   "source": [
    "##Find missing values of particular column \n",
    "mis_val_column = data['TA_Speaker_1_2'].isna().sum()\n",
    "mis_val_column"
   ]
  },
  {
   "cell_type": "code",
   "execution_count": 98,
   "id": "d0cb6125",
   "metadata": {},
   "outputs": [
    {
     "data": {
      "text/plain": [
       "0      3\n",
       "1      3\n",
       "2      3\n",
       "3      3\n",
       "4      3\n",
       "      ..\n",
       "146    1\n",
       "147    1\n",
       "148    1\n",
       "149    1\n",
       "150    1\n",
       "Name: categ_1l_2m_3h, Length: 151, dtype: int64"
      ]
     },
     "execution_count": 98,
     "metadata": {},
     "output_type": "execute_result"
    }
   ],
   "source": [
    "data[\"categ_1l_2m_3h\"]"
   ]
  },
  {
   "cell_type": "code",
   "execution_count": 99,
   "id": "7904712c",
   "metadata": {},
   "outputs": [],
   "source": [
    "##Select features\n",
    "features = [\"TA_Speaker_1_2\",\"Course_instructor_25\",\"Course_categ_26\",\"Sem_1sum_2reg\",\"class_size\"]\n",
    "X = data[features]\n",
    "y = data[\"categ_1l_2m_3h\"]\n",
    "X_train,X_test,y_train,y_test = train_test_split(X,y,test_size=0.2,random_state=48)\n"
   ]
  },
  {
   "cell_type": "code",
   "execution_count": 100,
   "id": "fec9bf5f",
   "metadata": {},
   "outputs": [],
   "source": [
    "from sklearn.preprocessing import StandardScaler\n",
    "\n",
    "# Scale the features\n",
    "scaler = StandardScaler()\n",
    "X_train = scaler.fit_transform(X_train)\n",
    "X_test = scaler.transform(X_test)"
   ]
  },
  {
   "cell_type": "code",
   "execution_count": 101,
   "id": "a509e003",
   "metadata": {},
   "outputs": [
    {
     "data": {
      "text/html": [
       "<style>#sk-container-id-8 {color: black;background-color: white;}#sk-container-id-8 pre{padding: 0;}#sk-container-id-8 div.sk-toggleable {background-color: white;}#sk-container-id-8 label.sk-toggleable__label {cursor: pointer;display: block;width: 100%;margin-bottom: 0;padding: 0.3em;box-sizing: border-box;text-align: center;}#sk-container-id-8 label.sk-toggleable__label-arrow:before {content: \"▸\";float: left;margin-right: 0.25em;color: #696969;}#sk-container-id-8 label.sk-toggleable__label-arrow:hover:before {color: black;}#sk-container-id-8 div.sk-estimator:hover label.sk-toggleable__label-arrow:before {color: black;}#sk-container-id-8 div.sk-toggleable__content {max-height: 0;max-width: 0;overflow: hidden;text-align: left;background-color: #f0f8ff;}#sk-container-id-8 div.sk-toggleable__content pre {margin: 0.2em;color: black;border-radius: 0.25em;background-color: #f0f8ff;}#sk-container-id-8 input.sk-toggleable__control:checked~div.sk-toggleable__content {max-height: 200px;max-width: 100%;overflow: auto;}#sk-container-id-8 input.sk-toggleable__control:checked~label.sk-toggleable__label-arrow:before {content: \"▾\";}#sk-container-id-8 div.sk-estimator input.sk-toggleable__control:checked~label.sk-toggleable__label {background-color: #d4ebff;}#sk-container-id-8 div.sk-label input.sk-toggleable__control:checked~label.sk-toggleable__label {background-color: #d4ebff;}#sk-container-id-8 input.sk-hidden--visually {border: 0;clip: rect(1px 1px 1px 1px);clip: rect(1px, 1px, 1px, 1px);height: 1px;margin: -1px;overflow: hidden;padding: 0;position: absolute;width: 1px;}#sk-container-id-8 div.sk-estimator {font-family: monospace;background-color: #f0f8ff;border: 1px dotted black;border-radius: 0.25em;box-sizing: border-box;margin-bottom: 0.5em;}#sk-container-id-8 div.sk-estimator:hover {background-color: #d4ebff;}#sk-container-id-8 div.sk-parallel-item::after {content: \"\";width: 100%;border-bottom: 1px solid gray;flex-grow: 1;}#sk-container-id-8 div.sk-label:hover label.sk-toggleable__label {background-color: #d4ebff;}#sk-container-id-8 div.sk-serial::before {content: \"\";position: absolute;border-left: 1px solid gray;box-sizing: border-box;top: 0;bottom: 0;left: 50%;z-index: 0;}#sk-container-id-8 div.sk-serial {display: flex;flex-direction: column;align-items: center;background-color: white;padding-right: 0.2em;padding-left: 0.2em;position: relative;}#sk-container-id-8 div.sk-item {position: relative;z-index: 1;}#sk-container-id-8 div.sk-parallel {display: flex;align-items: stretch;justify-content: center;background-color: white;position: relative;}#sk-container-id-8 div.sk-item::before, #sk-container-id-8 div.sk-parallel-item::before {content: \"\";position: absolute;border-left: 1px solid gray;box-sizing: border-box;top: 0;bottom: 0;left: 50%;z-index: -1;}#sk-container-id-8 div.sk-parallel-item {display: flex;flex-direction: column;z-index: 1;position: relative;background-color: white;}#sk-container-id-8 div.sk-parallel-item:first-child::after {align-self: flex-end;width: 50%;}#sk-container-id-8 div.sk-parallel-item:last-child::after {align-self: flex-start;width: 50%;}#sk-container-id-8 div.sk-parallel-item:only-child::after {width: 0;}#sk-container-id-8 div.sk-dashed-wrapped {border: 1px dashed gray;margin: 0 0.4em 0.5em 0.4em;box-sizing: border-box;padding-bottom: 0.4em;background-color: white;}#sk-container-id-8 div.sk-label label {font-family: monospace;font-weight: bold;display: inline-block;line-height: 1.2em;}#sk-container-id-8 div.sk-label-container {text-align: center;}#sk-container-id-8 div.sk-container {/* jupyter's `normalize.less` sets `[hidden] { display: none; }` but bootstrap.min.css set `[hidden] { display: none !important; }` so we also need the `!important` here to be able to override the default hidden behavior on the sphinx rendered scikit-learn.org. See: https://github.com/scikit-learn/scikit-learn/issues/21755 */display: inline-block !important;position: relative;}#sk-container-id-8 div.sk-text-repr-fallback {display: none;}</style><div id=\"sk-container-id-8\" class=\"sk-top-container\"><div class=\"sk-text-repr-fallback\"><pre>GaussianNB()</pre><b>In a Jupyter environment, please rerun this cell to show the HTML representation or trust the notebook. <br />On GitHub, the HTML representation is unable to render, please try loading this page with nbviewer.org.</b></div><div class=\"sk-container\" hidden><div class=\"sk-item\"><div class=\"sk-estimator sk-toggleable\"><input class=\"sk-toggleable__control sk-hidden--visually\" id=\"sk-estimator-id-8\" type=\"checkbox\" checked><label for=\"sk-estimator-id-8\" class=\"sk-toggleable__label sk-toggleable__label-arrow\">GaussianNB</label><div class=\"sk-toggleable__content\"><pre>GaussianNB()</pre></div></div></div></div></div>"
      ],
      "text/plain": [
       "GaussianNB()"
      ]
     },
     "execution_count": 101,
     "metadata": {},
     "output_type": "execute_result"
    }
   ],
   "source": [
    "from sklearn.naive_bayes import GaussianNB\n",
    "\n",
    "# Train the model\n",
    "model = GaussianNB()\n",
    "model.fit(X_train, y_train)"
   ]
  },
  {
   "cell_type": "code",
   "execution_count": 102,
   "id": "28fcb726",
   "metadata": {},
   "outputs": [
    {
     "name": "stdout",
     "output_type": "stream",
     "text": [
      "Accuracy: 0.7096774193548387\n",
      "Classification Report:\n",
      "               precision    recall  f1-score   support\n",
      "\n",
      "           1       0.60      0.82      0.69        11\n",
      "           2       0.80      0.44      0.57         9\n",
      "           3       0.82      0.82      0.82        11\n",
      "\n",
      "    accuracy                           0.71        31\n",
      "   macro avg       0.74      0.69      0.69        31\n",
      "weighted avg       0.74      0.71      0.70        31\n",
      "\n"
     ]
    }
   ],
   "source": [
    "from sklearn.metrics import accuracy_score, classification_report\n",
    "\n",
    "# Make predictions on the test set\n",
    "y_pred = model.predict(X_test)\n",
    "\n",
    "# Calculate the accuracy score\n",
    "accuracy = accuracy_score(y_test, y_pred)\n",
    "print(\"Accuracy:\", accuracy)\n",
    "\n",
    "# Print the classification report\n",
    "report = classification_report(y_test, y_pred)\n",
    "print(\"Classification Report:\\n\", report)\n"
   ]
  },
  {
   "cell_type": "code",
   "execution_count": 103,
   "id": "ce87c79d",
   "metadata": {},
   "outputs": [
    {
     "name": "stdout",
     "output_type": "stream",
     "text": [
      "Accuracy: 0.7096774193548387\n",
      "Precision: 0.7393939393939394\n",
      "Recall: 0.6936026936026937\n",
      "F1 score: 0.693972693972694\n"
     ]
    }
   ],
   "source": [
    "accuracy = accuracy_score(y_test, y_pred)\n",
    "precision = precision_score(y_test, y_pred, average='macro')\n",
    "recall = recall_score(y_test, y_pred, average='macro')\n",
    "f1 = f1_score(y_test, y_pred, average='macro')\n",
    "\n",
    "print(\"Accuracy:\", accuracy)\n",
    "print(\"Precision:\", precision)\n",
    "print(\"Recall:\", recall)\n",
    "print(\"F1 score:\", f1)"
   ]
  },
  {
   "cell_type": "code",
   "execution_count": 104,
   "id": "9a494d98",
   "metadata": {},
   "outputs": [
    {
     "data": {
      "image/png": "[encoded data removed]",
      "text/plain": [
       "<Figure size 640x480 with 1 Axes>"
      ]
     },
     "metadata": {},
     "output_type": "display_data"
    }
   ],
   "source": [
    "import matplotlib.pyplot as plt\n",
    "\n",
    "# Create a bar chart of the class_size variable\n",
    "class_size_counts = data['class_size'].value_counts()\n",
    "plt.bar(class_size_counts.index, class_size_counts.values)\n",
    "\n",
    "# Add labels and title\n",
    "plt.xlabel('Class Size')\n",
    "plt.ylabel('Count')\n",
    "plt.title('Distribution of Class Size')\n",
    "\n",
    "# Show the plot\n",
    "plt.show()\n"
   ]
  },
  {
   "cell_type": "code",
   "execution_count": 105,
   "id": "6a0b3635",
   "metadata": {},
   "outputs": [],
   "source": [
    "##Save the model\n",
    "import pickle\n",
    "with open(\"naive_bayes_model.pkl\",\"wb\") as file:\n",
    "    pickle.dump(model,file)"
   ]
  },
  {
   "cell_type": "code",
   "execution_count": null,
   "id": "ae593c5c",
   "metadata": {},
   "outputs": [],
   "source": []
  }
 ],
 "metadata": {
  "kernelspec": {
   "display_name": "Python 3 (ipykernel)",
   "language": "python",
   "name": "python3"
  },
  "language_info": {
   "codemirror_mode": {
    "name": "ipython",
    "version": 3
   },
   "file_extension": ".py",
   "mimetype": "text/x-python",
   "name": "python",
   "nbconvert_exporter": "python",
   "pygments_lexer": "ipython3",
   "version": "3.9.0"
  }
 },
 "nbformat": 4,
 "nbformat_minor": 5
}
